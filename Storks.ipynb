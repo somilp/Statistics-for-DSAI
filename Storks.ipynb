{
 "cells": [
  {
   "cell_type": "markdown",
   "id": "87049300",
   "metadata": {},
   "source": [
    "# Analysis of the Storks Data\n",
    "\n",
    "The ancient myth of storks delivering babies is discussed to the present day. It has been suggested that the birth rate of a country and number of storks could be tied by confounding variables, such as the land area. In this report, we explore the associations between different variables.\n",
    "\n",
    "This report aims to construct several regression models and evaluate their performance, relating to the storks data for 17 countries. Two regression models with select variables will be built for the number of births and number of storks respectively. After building the regression models, the bootstrap technique will be used to estimate and comment on the distributions of the difference in R2 parameters for the number of births, and the root mean squared errors (RMSE) for the number of storks. This will allow us to ascertain if one model is better than another, for a given target variable.\n",
    "\n",
    "\n",
    "## Table of Contents\n",
    "\n",
    "1. Section 1: Introduction\n",
    "      1. Describing and Loading the Data\n",
    "      1. Determining the Population Density and Area of Suitable Land\n",
    "      \n",
    "2. Section 2: Linear Regression Models for the Number of Births\n",
    "      1. Model 1 - Predictions using the Number of Storks\n",
    "      1. Model 2 -  Predictions using the Population Size\n",
    "      1. Bootstrapping Both Models for the R2 Coefficient Difference\n",
    "     \n",
    "3. Section 3: Linear Regression Models for the Number of Storks\n",
    "      1. Model 1 - Predictions using the Land Area\n",
    "      1. Model 2 - Predictions using the Population Density and Suitable Land Area\n",
    "      1. Bootstrapping Both Models for the RMSE Difference\n",
    "      \n",
    "4. Section 4: Conclusion\n"
   ]
  },
  {
   "cell_type": "code",
   "execution_count": 1,
   "id": "1c401b8b",
   "metadata": {},
   "outputs": [],
   "source": [
    "# Importing the relevant modules\n",
    "import pandas as pd\n",
    "import matplotlib.pyplot as plt\n",
    "import numpy as np\n",
    "from sklearn.linear_model import LinearRegression\n",
    "from sklearn.metrics import mean_squared_error\n",
    "from sklearn.utils import resample\n",
    "\n",
    "%matplotlib inline"
   ]
  },
  {
   "cell_type": "markdown",
   "id": "bb6186a0",
   "metadata": {},
   "source": [
    "## Section 1: Introduction\n",
    "\n",
    "In this section we will introduce the storks dataset and describe the attributes within it. We will also define and add a new attribute to the existing dataset, which will be used for analysis in a later section.\n",
    "\n",
    "### Section 1.1: Describing and Loading the Data\n",
    "\n",
    "Storks are common birds across Europe, with the data covering 17 countries from the period 1980-1990. The storks dataset that will be used for analysis contains six variables, which have been described below, alongside their assigned data types.\n",
    "\n",
    "| Name      |      Description             | Type | \n",
    "|:--------------|:-----------------------------|:------:|\n",
    "|Country   | The name of a country |category|  \n",
    "|Area       | The land area of a country (km$^{2}$) | continuous | \n",
    "|Storks      | The number of stork breeding pairs in a country | continuous |\n",
    "|Humans           |The human population of a country (10$^{6}$)  | continuous |\n",
    "|BirthRate     | The human birth rate (10$^{3}$ / year)        | continuous |\n",
    "|SuitableAreaPercent     | The percentage of land area that is suitable for storks     | continuous |\n",
    "\n",
    "\n"
   ]
  },
  {
   "cell_type": "markdown",
   "id": "df61b79e",
   "metadata": {},
   "source": [
    "The data has been loaded and the full dataframe can be seen below."
   ]
  },
  {
   "cell_type": "code",
   "execution_count": 2,
   "id": "e2f2d7b5",
   "metadata": {},
   "outputs": [
    {
     "data": {
      "text/html": [
       "<div>\n",
       "<style scoped>\n",
       "    .dataframe tbody tr th:only-of-type {\n",
       "        vertical-align: middle;\n",
       "    }\n",
       "\n",
       "    .dataframe tbody tr th {\n",
       "        vertical-align: top;\n",
       "    }\n",
       "\n",
       "    .dataframe thead th {\n",
       "        text-align: right;\n",
       "    }\n",
       "</style>\n",
       "<table border=\"1\" class=\"dataframe\">\n",
       "  <thead>\n",
       "    <tr style=\"text-align: right;\">\n",
       "      <th></th>\n",
       "      <th>Country</th>\n",
       "      <th>Area</th>\n",
       "      <th>Storks</th>\n",
       "      <th>Humans</th>\n",
       "      <th>BirthRate</th>\n",
       "      <th>SuitableAreaPercent</th>\n",
       "    </tr>\n",
       "  </thead>\n",
       "  <tbody>\n",
       "    <tr>\n",
       "      <th>0</th>\n",
       "      <td>Albania</td>\n",
       "      <td>28750</td>\n",
       "      <td>100</td>\n",
       "      <td>3.2</td>\n",
       "      <td>83</td>\n",
       "      <td>55.68</td>\n",
       "    </tr>\n",
       "    <tr>\n",
       "      <th>1</th>\n",
       "      <td>Austria</td>\n",
       "      <td>83860</td>\n",
       "      <td>300</td>\n",
       "      <td>7.6</td>\n",
       "      <td>87</td>\n",
       "      <td>38.34</td>\n",
       "    </tr>\n",
       "    <tr>\n",
       "      <th>2</th>\n",
       "      <td>Belgium</td>\n",
       "      <td>30520</td>\n",
       "      <td>1</td>\n",
       "      <td>9.9</td>\n",
       "      <td>118</td>\n",
       "      <td>65.93</td>\n",
       "    </tr>\n",
       "    <tr>\n",
       "      <th>3</th>\n",
       "      <td>Bulgaria</td>\n",
       "      <td>111000</td>\n",
       "      <td>5000</td>\n",
       "      <td>9.0</td>\n",
       "      <td>117</td>\n",
       "      <td>57.99</td>\n",
       "    </tr>\n",
       "    <tr>\n",
       "      <th>4</th>\n",
       "      <td>Denmark</td>\n",
       "      <td>43100</td>\n",
       "      <td>9</td>\n",
       "      <td>5.1</td>\n",
       "      <td>59</td>\n",
       "      <td>81.46</td>\n",
       "    </tr>\n",
       "    <tr>\n",
       "      <th>5</th>\n",
       "      <td>France</td>\n",
       "      <td>544000</td>\n",
       "      <td>140</td>\n",
       "      <td>56.0</td>\n",
       "      <td>774</td>\n",
       "      <td>58.47</td>\n",
       "    </tr>\n",
       "    <tr>\n",
       "      <th>6</th>\n",
       "      <td>Germany</td>\n",
       "      <td>357000</td>\n",
       "      <td>3300</td>\n",
       "      <td>78.0</td>\n",
       "      <td>901</td>\n",
       "      <td>59.81</td>\n",
       "    </tr>\n",
       "    <tr>\n",
       "      <th>7</th>\n",
       "      <td>Greece</td>\n",
       "      <td>132000</td>\n",
       "      <td>2500</td>\n",
       "      <td>10.0</td>\n",
       "      <td>106</td>\n",
       "      <td>47.31</td>\n",
       "    </tr>\n",
       "    <tr>\n",
       "      <th>8</th>\n",
       "      <td>Holland</td>\n",
       "      <td>41900</td>\n",
       "      <td>4</td>\n",
       "      <td>15.0</td>\n",
       "      <td>188</td>\n",
       "      <td>70.96</td>\n",
       "    </tr>\n",
       "    <tr>\n",
       "      <th>9</th>\n",
       "      <td>Hungary</td>\n",
       "      <td>93000</td>\n",
       "      <td>5000</td>\n",
       "      <td>11.0</td>\n",
       "      <td>124</td>\n",
       "      <td>75.86</td>\n",
       "    </tr>\n",
       "    <tr>\n",
       "      <th>10</th>\n",
       "      <td>Italy</td>\n",
       "      <td>301280</td>\n",
       "      <td>5</td>\n",
       "      <td>57.0</td>\n",
       "      <td>551</td>\n",
       "      <td>60.30</td>\n",
       "    </tr>\n",
       "    <tr>\n",
       "      <th>11</th>\n",
       "      <td>Poland</td>\n",
       "      <td>312680</td>\n",
       "      <td>30000</td>\n",
       "      <td>38.0</td>\n",
       "      <td>610</td>\n",
       "      <td>64.09</td>\n",
       "    </tr>\n",
       "    <tr>\n",
       "      <th>12</th>\n",
       "      <td>Portugal</td>\n",
       "      <td>92390</td>\n",
       "      <td>1500</td>\n",
       "      <td>10.0</td>\n",
       "      <td>120</td>\n",
       "      <td>52.51</td>\n",
       "    </tr>\n",
       "    <tr>\n",
       "      <th>13</th>\n",
       "      <td>Romania</td>\n",
       "      <td>237500</td>\n",
       "      <td>5000</td>\n",
       "      <td>23.0</td>\n",
       "      <td>367</td>\n",
       "      <td>62.49</td>\n",
       "    </tr>\n",
       "    <tr>\n",
       "      <th>14</th>\n",
       "      <td>Spain</td>\n",
       "      <td>504750</td>\n",
       "      <td>8000</td>\n",
       "      <td>39.0</td>\n",
       "      <td>439</td>\n",
       "      <td>59.57</td>\n",
       "    </tr>\n",
       "    <tr>\n",
       "      <th>15</th>\n",
       "      <td>Switzerland</td>\n",
       "      <td>41290</td>\n",
       "      <td>150</td>\n",
       "      <td>6.7</td>\n",
       "      <td>82</td>\n",
       "      <td>43.19</td>\n",
       "    </tr>\n",
       "    <tr>\n",
       "      <th>16</th>\n",
       "      <td>Turkey</td>\n",
       "      <td>779450</td>\n",
       "      <td>25000</td>\n",
       "      <td>56.0</td>\n",
       "      <td>1576</td>\n",
       "      <td>65.97</td>\n",
       "    </tr>\n",
       "  </tbody>\n",
       "</table>\n",
       "</div>"
      ],
      "text/plain": [
       "        Country    Area  Storks  Humans  BirthRate  SuitableAreaPercent\n",
       "0       Albania   28750     100     3.2         83                55.68\n",
       "1       Austria   83860     300     7.6         87                38.34\n",
       "2       Belgium   30520       1     9.9        118                65.93\n",
       "3      Bulgaria  111000    5000     9.0        117                57.99\n",
       "4       Denmark   43100       9     5.1         59                81.46\n",
       "5        France  544000     140    56.0        774                58.47\n",
       "6       Germany  357000    3300    78.0        901                59.81\n",
       "7        Greece  132000    2500    10.0        106                47.31\n",
       "8       Holland   41900       4    15.0        188                70.96\n",
       "9       Hungary   93000    5000    11.0        124                75.86\n",
       "10        Italy  301280       5    57.0        551                60.30\n",
       "11       Poland  312680   30000    38.0        610                64.09\n",
       "12     Portugal   92390    1500    10.0        120                52.51\n",
       "13      Romania  237500    5000    23.0        367                62.49\n",
       "14        Spain  504750    8000    39.0        439                59.57\n",
       "15  Switzerland   41290     150     6.7         82                43.19\n",
       "16       Turkey  779450   25000    56.0       1576                65.97"
      ]
     },
     "execution_count": 2,
     "metadata": {},
     "output_type": "execute_result"
    }
   ],
   "source": [
    "# Creating a dictionary of types for the categorical data\n",
    "types_dict_storks = {'Country': 'category'}\n",
    "\n",
    "# Loading the storks data, with data type as above\n",
    "storks = pd.read_csv(\"storks.csv\", dtype = types_dict_storks)\n",
    "storks"
   ]
  },
  {
   "cell_type": "markdown",
   "id": "c3312d4e",
   "metadata": {},
   "source": [
    "### Section 1.2: Determining the Population Density and Area of Suitable Land\n",
    "\n",
    "In this subsection we will calculate the population density and area of suitable land for each row (country) in the existing dataset. These will be used in a later section as predictors when building a regression model.\n",
    "\n",
    "The population density will measure the concentration of human individuals in an area within a specific country, and can be calculated by dividing the human population ('Humans') multiplied by a million, over the corresponding country's land area. We assign these values under a new attribute 'PopulationDensity' which has been added to the dataframe.\n",
    "\n",
    "The area of suitable land will be calculated by multiplying the country's area by the percentage of land area that is suitable for storks. We assign these values under a new attribute 'SuitableArea' which has been added to the dataframe.\n",
    "\n",
    "Note that the units of these new attributes will be: human population per km$^2$ of land area for the population density, and km$^2$ for the suitable land area. \n",
    "\n",
    "The resulting dataframe is shown below."
   ]
  },
  {
   "cell_type": "code",
   "execution_count": 3,
   "id": "e296b23e",
   "metadata": {},
   "outputs": [
    {
     "data": {
      "text/html": [
       "<div>\n",
       "<style scoped>\n",
       "    .dataframe tbody tr th:only-of-type {\n",
       "        vertical-align: middle;\n",
       "    }\n",
       "\n",
       "    .dataframe tbody tr th {\n",
       "        vertical-align: top;\n",
       "    }\n",
       "\n",
       "    .dataframe thead th {\n",
       "        text-align: right;\n",
       "    }\n",
       "</style>\n",
       "<table border=\"1\" class=\"dataframe\">\n",
       "  <thead>\n",
       "    <tr style=\"text-align: right;\">\n",
       "      <th></th>\n",
       "      <th>Country</th>\n",
       "      <th>Area</th>\n",
       "      <th>Storks</th>\n",
       "      <th>Humans</th>\n",
       "      <th>BirthRate</th>\n",
       "      <th>SuitableAreaPercent</th>\n",
       "      <th>PopulationDensity</th>\n",
       "      <th>SuitableArea</th>\n",
       "    </tr>\n",
       "  </thead>\n",
       "  <tbody>\n",
       "    <tr>\n",
       "      <th>0</th>\n",
       "      <td>Albania</td>\n",
       "      <td>28750</td>\n",
       "      <td>100</td>\n",
       "      <td>3.2</td>\n",
       "      <td>83</td>\n",
       "      <td>55.68</td>\n",
       "      <td>111.304348</td>\n",
       "      <td>16008.000</td>\n",
       "    </tr>\n",
       "    <tr>\n",
       "      <th>1</th>\n",
       "      <td>Austria</td>\n",
       "      <td>83860</td>\n",
       "      <td>300</td>\n",
       "      <td>7.6</td>\n",
       "      <td>87</td>\n",
       "      <td>38.34</td>\n",
       "      <td>90.627236</td>\n",
       "      <td>32151.924</td>\n",
       "    </tr>\n",
       "    <tr>\n",
       "      <th>2</th>\n",
       "      <td>Belgium</td>\n",
       "      <td>30520</td>\n",
       "      <td>1</td>\n",
       "      <td>9.9</td>\n",
       "      <td>118</td>\n",
       "      <td>65.93</td>\n",
       "      <td>324.377457</td>\n",
       "      <td>20121.836</td>\n",
       "    </tr>\n",
       "    <tr>\n",
       "      <th>3</th>\n",
       "      <td>Bulgaria</td>\n",
       "      <td>111000</td>\n",
       "      <td>5000</td>\n",
       "      <td>9.0</td>\n",
       "      <td>117</td>\n",
       "      <td>57.99</td>\n",
       "      <td>81.081081</td>\n",
       "      <td>64368.900</td>\n",
       "    </tr>\n",
       "    <tr>\n",
       "      <th>4</th>\n",
       "      <td>Denmark</td>\n",
       "      <td>43100</td>\n",
       "      <td>9</td>\n",
       "      <td>5.1</td>\n",
       "      <td>59</td>\n",
       "      <td>81.46</td>\n",
       "      <td>118.329466</td>\n",
       "      <td>35109.260</td>\n",
       "    </tr>\n",
       "    <tr>\n",
       "      <th>5</th>\n",
       "      <td>France</td>\n",
       "      <td>544000</td>\n",
       "      <td>140</td>\n",
       "      <td>56.0</td>\n",
       "      <td>774</td>\n",
       "      <td>58.47</td>\n",
       "      <td>102.941176</td>\n",
       "      <td>318076.800</td>\n",
       "    </tr>\n",
       "    <tr>\n",
       "      <th>6</th>\n",
       "      <td>Germany</td>\n",
       "      <td>357000</td>\n",
       "      <td>3300</td>\n",
       "      <td>78.0</td>\n",
       "      <td>901</td>\n",
       "      <td>59.81</td>\n",
       "      <td>218.487395</td>\n",
       "      <td>213521.700</td>\n",
       "    </tr>\n",
       "    <tr>\n",
       "      <th>7</th>\n",
       "      <td>Greece</td>\n",
       "      <td>132000</td>\n",
       "      <td>2500</td>\n",
       "      <td>10.0</td>\n",
       "      <td>106</td>\n",
       "      <td>47.31</td>\n",
       "      <td>75.757576</td>\n",
       "      <td>62449.200</td>\n",
       "    </tr>\n",
       "    <tr>\n",
       "      <th>8</th>\n",
       "      <td>Holland</td>\n",
       "      <td>41900</td>\n",
       "      <td>4</td>\n",
       "      <td>15.0</td>\n",
       "      <td>188</td>\n",
       "      <td>70.96</td>\n",
       "      <td>357.995227</td>\n",
       "      <td>29732.240</td>\n",
       "    </tr>\n",
       "    <tr>\n",
       "      <th>9</th>\n",
       "      <td>Hungary</td>\n",
       "      <td>93000</td>\n",
       "      <td>5000</td>\n",
       "      <td>11.0</td>\n",
       "      <td>124</td>\n",
       "      <td>75.86</td>\n",
       "      <td>118.279570</td>\n",
       "      <td>70549.800</td>\n",
       "    </tr>\n",
       "    <tr>\n",
       "      <th>10</th>\n",
       "      <td>Italy</td>\n",
       "      <td>301280</td>\n",
       "      <td>5</td>\n",
       "      <td>57.0</td>\n",
       "      <td>551</td>\n",
       "      <td>60.30</td>\n",
       "      <td>189.192777</td>\n",
       "      <td>181671.840</td>\n",
       "    </tr>\n",
       "    <tr>\n",
       "      <th>11</th>\n",
       "      <td>Poland</td>\n",
       "      <td>312680</td>\n",
       "      <td>30000</td>\n",
       "      <td>38.0</td>\n",
       "      <td>610</td>\n",
       "      <td>64.09</td>\n",
       "      <td>121.529999</td>\n",
       "      <td>200396.612</td>\n",
       "    </tr>\n",
       "    <tr>\n",
       "      <th>12</th>\n",
       "      <td>Portugal</td>\n",
       "      <td>92390</td>\n",
       "      <td>1500</td>\n",
       "      <td>10.0</td>\n",
       "      <td>120</td>\n",
       "      <td>52.51</td>\n",
       "      <td>108.236822</td>\n",
       "      <td>48513.989</td>\n",
       "    </tr>\n",
       "    <tr>\n",
       "      <th>13</th>\n",
       "      <td>Romania</td>\n",
       "      <td>237500</td>\n",
       "      <td>5000</td>\n",
       "      <td>23.0</td>\n",
       "      <td>367</td>\n",
       "      <td>62.49</td>\n",
       "      <td>96.842105</td>\n",
       "      <td>148413.750</td>\n",
       "    </tr>\n",
       "    <tr>\n",
       "      <th>14</th>\n",
       "      <td>Spain</td>\n",
       "      <td>504750</td>\n",
       "      <td>8000</td>\n",
       "      <td>39.0</td>\n",
       "      <td>439</td>\n",
       "      <td>59.57</td>\n",
       "      <td>77.265973</td>\n",
       "      <td>300679.575</td>\n",
       "    </tr>\n",
       "    <tr>\n",
       "      <th>15</th>\n",
       "      <td>Switzerland</td>\n",
       "      <td>41290</td>\n",
       "      <td>150</td>\n",
       "      <td>6.7</td>\n",
       "      <td>82</td>\n",
       "      <td>43.19</td>\n",
       "      <td>162.266893</td>\n",
       "      <td>17833.151</td>\n",
       "    </tr>\n",
       "    <tr>\n",
       "      <th>16</th>\n",
       "      <td>Turkey</td>\n",
       "      <td>779450</td>\n",
       "      <td>25000</td>\n",
       "      <td>56.0</td>\n",
       "      <td>1576</td>\n",
       "      <td>65.97</td>\n",
       "      <td>71.845532</td>\n",
       "      <td>514203.165</td>\n",
       "    </tr>\n",
       "  </tbody>\n",
       "</table>\n",
       "</div>"
      ],
      "text/plain": [
       "        Country    Area  Storks  Humans  BirthRate  SuitableAreaPercent  \\\n",
       "0       Albania   28750     100     3.2         83                55.68   \n",
       "1       Austria   83860     300     7.6         87                38.34   \n",
       "2       Belgium   30520       1     9.9        118                65.93   \n",
       "3      Bulgaria  111000    5000     9.0        117                57.99   \n",
       "4       Denmark   43100       9     5.1         59                81.46   \n",
       "5        France  544000     140    56.0        774                58.47   \n",
       "6       Germany  357000    3300    78.0        901                59.81   \n",
       "7        Greece  132000    2500    10.0        106                47.31   \n",
       "8       Holland   41900       4    15.0        188                70.96   \n",
       "9       Hungary   93000    5000    11.0        124                75.86   \n",
       "10        Italy  301280       5    57.0        551                60.30   \n",
       "11       Poland  312680   30000    38.0        610                64.09   \n",
       "12     Portugal   92390    1500    10.0        120                52.51   \n",
       "13      Romania  237500    5000    23.0        367                62.49   \n",
       "14        Spain  504750    8000    39.0        439                59.57   \n",
       "15  Switzerland   41290     150     6.7         82                43.19   \n",
       "16       Turkey  779450   25000    56.0       1576                65.97   \n",
       "\n",
       "    PopulationDensity  SuitableArea  \n",
       "0          111.304348     16008.000  \n",
       "1           90.627236     32151.924  \n",
       "2          324.377457     20121.836  \n",
       "3           81.081081     64368.900  \n",
       "4          118.329466     35109.260  \n",
       "5          102.941176    318076.800  \n",
       "6          218.487395    213521.700  \n",
       "7           75.757576     62449.200  \n",
       "8          357.995227     29732.240  \n",
       "9          118.279570     70549.800  \n",
       "10         189.192777    181671.840  \n",
       "11         121.529999    200396.612  \n",
       "12         108.236822     48513.989  \n",
       "13          96.842105    148413.750  \n",
       "14          77.265973    300679.575  \n",
       "15         162.266893     17833.151  \n",
       "16          71.845532    514203.165  "
      ]
     },
     "execution_count": 3,
     "metadata": {},
     "output_type": "execute_result"
    }
   ],
   "source": [
    "# Define a function to calculate the population density for a given row (country)\n",
    "def determinePopulationDensity(row):\n",
    "    return row['Humans'] * 10**6 / row['Area']\n",
    "\n",
    "# Define a function to calculate the suitable area of land for a given row (country)\n",
    "def determineSuitableArea(row):\n",
    "    return row['Area'] * row['SuitableAreaPercent'] / 100\n",
    "\n",
    "# Apply the above functions to the existing dataset, and assign values under new columns (attribute)\n",
    "storks_density = storks.assign(PopulationDensity = storks.apply(determinePopulationDensity, axis=1))\n",
    "\n",
    "storks_density = storks_density.assign(SuitableArea = storks_density.apply(determineSuitableArea, axis=1))\n",
    "\n",
    "storks_density"
   ]
  },
  {
   "cell_type": "markdown",
   "id": "a9c97ade",
   "metadata": {},
   "source": [
    "## Section 2: Linear Regression Models for the Number of Births\n",
    "\n",
    "This section will focus on building two regression models with the number of births (column 'BirthRate') as the target variable. Specifically, we will look at the relationships between two predictors and the target variable: number of storks, population size and number of births respectively.\n",
    "\n",
    "### Section 2.1: Model 1 - Predictions using the Number of Storks\n",
    "\n",
    "We will construct a linear regression model using the number of stork breeding pairs as a predictor for the number of births. The outputs of the model are explained below."
   ]
  },
  {
   "cell_type": "code",
   "execution_count": 4,
   "id": "3e6b6bd6",
   "metadata": {},
   "outputs": [
    {
     "name": "stdout",
     "output_type": "stream",
     "text": [
      "The R2 coefficient of determination is 0.385\n",
      "Estimated regression coefficient for Storks is 0.03 change of birth rate (10^3) per stork breeding pair\n"
     ]
    }
   ],
   "source": [
    "# Constructing a linear regression model with predictor as storks and target as births\n",
    "y = storks.BirthRate\n",
    "X = np.column_stack(storks.Storks).reshape(-1, 1)\n",
    "\n",
    "reg = LinearRegression()\n",
    "reg.fit(X, y)\n",
    "print('The R2 coefficient of determination is %4.3f' % reg.score(X, y))\n",
    "beta_Storks = reg.coef_\n",
    "print('Estimated regression coefficient for Storks is %4.2f' % beta_Storks, \n",
    "      'change of birth rate (10^3) per stork breeding pair')"
   ]
  },
  {
   "cell_type": "markdown",
   "id": "181b314b",
   "metadata": {},
   "source": [
    "The R2 coefficient refers to the proportion of the variation in the dependent variable (birth rate) that is predictable from the independent variables (number of stork breeding pairs). It ranges from 0 to 1, and the higher the value it indicates a better fit for the model. In our case, the coefficient shows that 38.5% of variation in the birth rate can be explained by the number of storks. This suggests that, although the number of storks cannot predict the birth rate of a country very well, they may have some ability to do so.\n",
    "\n",
    "The regression coefficient suggests that there is a positive correlation between the number of storks and births - as one increases, so does the other. The fit of the regression model can be seen in the scatter plot below. It shows the actual data  points and the regression line created by the model - we can see the spread of the points from the line. The R2 value suggests that in general the points stray away from the line, which is also clear from the plot."
   ]
  },
  {
   "cell_type": "code",
   "execution_count": 5,
   "id": "f4c234ef",
   "metadata": {},
   "outputs": [
    {
     "data": {
      "text/plain": [
       "<matplotlib.legend.Legend at 0x230101a3b20>"
      ]
     },
     "execution_count": 5,
     "metadata": {},
     "output_type": "execute_result"
    },
    {
     "data": {
      "image/png": "[encoded data removed]",
      "text/plain": [
       "<Figure size 1440x720 with 1 Axes>"
      ]
     },
     "metadata": {
      "needs_background": "light"
     },
     "output_type": "display_data"
    }
   ],
   "source": [
    "# Finding the predicted values based on the linear regression model\n",
    "y_hat = reg.predict(X)\n",
    "\n",
    "# Plotting the actual data points and the regression model\n",
    "fig, ax = plt.subplots(1,1, figsize=(20,10))\n",
    "\n",
    "ax.set_title(\"Scatter Plot to Show the Fit of the Regression Model 1: Birth Rate Against Number of Storks\", fontsize=14)\n",
    "ax.scatter(X, y, color='r')\n",
    "ax.plot(X, y_hat, label = 'Regression Model', color='b')\n",
    "ax.set_xlabel(\"Number of Stork Breeding Pairs\", fontsize=12)\n",
    "ax.set_ylabel(\"Birth Rate (10$^3$ / year)\", fontsize=12)\n",
    "ax.legend()"
   ]
  },
  {
   "cell_type": "markdown",
   "id": "577263bb",
   "metadata": {},
   "source": [
    "### Section 2.2: Model 2 -  Predictions using the Population Size\n",
    "\n",
    "We will construct a linear regression model using the population size as a predictor for the number of births. The outputs of the model are explained below."
   ]
  },
  {
   "cell_type": "code",
   "execution_count": 6,
   "id": "fbfc9b90",
   "metadata": {},
   "outputs": [
    {
     "name": "stdout",
     "output_type": "stream",
     "text": [
      "The R2 coefficient of determination is 0.725\n",
      "Estimated regression coefficient for humans is 14.83 change of birth rate (10^3) per 10^6 humans\n"
     ]
    }
   ],
   "source": [
    "# Constructing a linear regression model with predictor as population size and target as birth rate\n",
    "y = storks.BirthRate\n",
    "X = np.column_stack(storks.Humans).reshape(-1, 1)\n",
    "\n",
    "reg = LinearRegression()\n",
    "reg.fit(X, y)\n",
    "print('The R2 coefficient of determination is %4.3f' % reg.score(X, y))\n",
    "beta_Humans = reg.coef_\n",
    "print('Estimated regression coefficient for humans is %4.2f' % beta_Humans, \n",
    "      'change of birth rate (10^3) per 10^6 humans')"
   ]
  },
  {
   "cell_type": "markdown",
   "id": "f30c2bfe",
   "metadata": {},
   "source": [
    "The R2 coefficient shows that approximately 72.5% of variation in the birth rate can be explained by the population size. When compared to the R2 coefficient for storks, this shows that the population size appears to be a better predictor of the birth rate. This is also evident from the scatter plot below; the data points are much closer to the regression line than seen for model 1.\n",
    "\n",
    "The regression coefficient suggests that there is a positive correlation between the population size and births - as one increases, so does the other. This could be expected, as a larger population would naturally lead to a greater birth rate."
   ]
  },
  {
   "cell_type": "code",
   "execution_count": 7,
   "id": "076f180f",
   "metadata": {},
   "outputs": [
    {
     "data": {
      "text/plain": [
       "<matplotlib.legend.Legend at 0x230109c1d00>"
      ]
     },
     "execution_count": 7,
     "metadata": {},
     "output_type": "execute_result"
    },
    {
     "data": {
      "image/png": "[encoded data removed]",
      "text/plain": [
       "<Figure size 1440x720 with 1 Axes>"
      ]
     },
     "metadata": {
      "needs_background": "light"
     },
     "output_type": "display_data"
    }
   ],
   "source": [
    "# Finding the predicted values based on the linear regression model\n",
    "y_hat = reg.predict(X)\n",
    "\n",
    "# Plotting the actual data points and the regression model\n",
    "fig, ax = plt.subplots(1,1, figsize=(20,10))\n",
    "\n",
    "ax.set_title(\"Scatter Plot to Show the Fit of the Regression Model 2: Birth Rate Against Population Size\", fontsize=14)\n",
    "ax.scatter(X, y, color='r')\n",
    "ax.plot(X, y_hat, label = 'Regression Model', color='b')\n",
    "ax.set_xlabel(\"Human Population (10$^6$)\", fontsize=12)\n",
    "ax.set_ylabel(\"Birth Rate (10$^3$ / year)\", fontsize=12)\n",
    "ax.legend()"
   ]
  },
  {
   "cell_type": "markdown",
   "id": "e33376ef",
   "metadata": {},
   "source": [
    "### Section 2.3: Bootstrapping Both Models for the R2 Coefficient Difference\n",
    "\n",
    "In order to effectively compare the difference between the R2 coefficients for models 1 and 2, we should estimate their sampling distributions. In this subsection we will estimate the sampling distributions of the R2 coefficients for both models, using the bootstrap technique. This method takes a sample (with replacement) of the data, which is the same size as the original but may include repeats and may omit value(s). \n",
    "\n",
    "The R2 coefficients using both models are then determined for each resample using similar methods to the above, and the process will be repeated 500 times (to obtain 500 R2 coefficients). The resulting differences (calculated as model 1 - model 2) in the distributions of R2 coefficients will be shown using a histogram."
   ]
  },
  {
   "cell_type": "code",
   "execution_count": 8,
   "id": "35069044",
   "metadata": {},
   "outputs": [
    {
     "data": {
      "text/plain": [
       "Text(0.5, 0, 'R2 Coefficient Difference')"
      ]
     },
     "execution_count": 8,
     "metadata": {},
     "output_type": "execute_result"
    },
    {
     "data": {
      "image/png": "[encoded data removed]",
      "text/plain": [
       "<Figure size 1440x576 with 1 Axes>"
      ]
     },
     "metadata": {
      "needs_background": "light"
     },
     "output_type": "display_data"
    }
   ],
   "source": [
    "# Define a bootstrapping function, which accepts the dataframe, the output column name, number of repeats and a function\n",
    "# which returns the value of interest\n",
    "def bootstrapC(data, cols, repeats, func):\n",
    "    result = pd.DataFrame(data = dict([(c, np.empty(repeats)) for c in cols]))\n",
    "    \n",
    "    for i in range(0, repeats):\n",
    "        result.iloc[i] = func(resample(data))\n",
    "    return result\n",
    "\n",
    "# Define a function that builds a linear regression coefficient for both models, \n",
    "# calculates the two R2 values, and then finds the difference between them\n",
    "def differenceR2(df):\n",
    "    y = df.BirthRate\n",
    "    X_model1 = np.column_stack(df.Storks).reshape(-1, 1)\n",
    "    X_model2 = np.column_stack(df.Humans).reshape(-1, 1)\n",
    "    reg_model1 = LinearRegression().fit(X_model1, y)\n",
    "    reg_model2 = LinearRegression().fit(X_model2, y)\n",
    "    R2_model1 = reg_model1.score(X_model1, y)\n",
    "    R2_model2 = reg_model2.score(X_model2, y)\n",
    "    return [R2_model1 - R2_model2]\n",
    "\n",
    "# Creating a histogram to show the distribution of the differences in R2 values between models 1 and 2\n",
    "fig, ax = plt.subplots(1,1, figsize=(20,8))\n",
    "difference_r2 = bootstrapC(storks, ['R2_Difference'], 500, differenceR2) \n",
    "difference_r2.hist(ax=ax)\n",
    "ax.set_title(\"Histogram to Show the Distribution of Differences in R2 Coefficients of Models 1 and 2\")\n",
    "ax.set_ylabel(\"Frequency\")\n",
    "ax.set_xlabel(\"R2 Coefficient Difference\")"
   ]
  },
  {
   "cell_type": "markdown",
   "id": "87765907",
   "metadata": {},
   "source": [
    "We can see that most of the R2 coefficient differences show a bimodal distribution; there are peaks around -0.9 and -0.2. It is evident that the majority of differences are less than 0, which suggests that most of the time the resampled R2 coefficient of model 2 is greater than that of model 1.\n",
    "\n",
    "Furthermore, we can estimate confidence intervals based on this distribution, to see whether or not we can be confident that one of the models explains more of the variability in the number of births than the other model."
   ]
  },
  {
   "cell_type": "code",
   "execution_count": 9,
   "id": "fa498e17",
   "metadata": {},
   "outputs": [
    {
     "name": "stdout",
     "output_type": "stream",
     "text": [
      "The difference between the R2 coefficient (model 1 - model 2) is -0.34 with 80% CI -0.90 to -0.01\n",
      "The difference between the R2 coefficient (model 1 - model 2) is -0.34 with 90% CI -0.93 to 0.06\n",
      "The difference between the R2 coefficient (model 1 - model 2) is -0.34 with 99% CI -0.98 to 0.15\n"
     ]
    }
   ],
   "source": [
    "# Determining the sample difference, and comparing this to the various confidence intervals obtained from bootstrapping\n",
    "sampleDiff = differenceR2(storks)[0]\n",
    "print(\"The difference between the R2 coefficient (model 1 - model 2) is %3.2f with 80%% CI %3.2f to %3.2f\" % \n",
    "      (sampleDiff, difference_r2.R2_Difference.quantile(0.1), difference_r2.R2_Difference.quantile(0.9)))\n",
    "print(\"The difference between the R2 coefficient (model 1 - model 2) is %3.2f with 90%% CI %3.2f to %3.2f\" % \n",
    "      (sampleDiff, difference_r2.R2_Difference.quantile(0.05), difference_r2.R2_Difference.quantile(0.95)))\n",
    "print(\"The difference between the R2 coefficient (model 1 - model 2) is %3.2f with 99%% CI %3.2f to %3.2f\" % \n",
    "      (sampleDiff, difference_r2.R2_Difference.quantile(0.005), difference_r2.R2_Difference.quantile(0.995)))"
   ]
  },
  {
   "cell_type": "markdown",
   "id": "a868104e",
   "metadata": {},
   "source": [
    "From sections 2.1 and 2.2, we obtained R2 coefficients of 0.385 and 0.725 for models 1 and 2 respectively. The difference between them (in terms of model 1 - model 2) is - 0.34 (to 2 decimal places), which suggests that model 2 produces a better fit. This sample difference falls inside all of the above confidence intervals.\n",
    "\n",
    "Using the example of the 99% confidence interval - if we were to carry out this experiment with another sample, there would be a 99% chance that the difference in the R2 coefficients would be in the 99% confidence interval (the central 99% of resampled coefficients).\n",
    "\n",
    "Although the R2 coefficient difference of the sample falls within the 99% and 90% confidence intervals, these ranges also include negative values, zero and positive values consistently, which the population parameter could be. As such there are several possibilities - model 2 explains more of the variability in the number of births, or there is no difference, or that model 1 explains more of the variability in the number of births respectively. Using these intervals we cannot be confident about any of these conclusions.\n",
    "\n",
    "However, the 80% confidence interval includes only negative values (does not contain zero). However, note that one end of the interval includes values that are very close to zero, which still indicates a difference but may be a small one between the resampled R2 coefficient. Therefore, we can be 80% confident that the R2 coefficient difference would fall in this range and subsequently model 2 would explain more of the variability in the number of births than model 1."
   ]
  },
  {
   "cell_type": "markdown",
   "id": "28ac62d1",
   "metadata": {},
   "source": [
    "## Section 3: Linear Regression Models for the Number of Storks\n",
    "\n",
    "This section will focus on building two regression models with the number of storks as the target variable. The first model will feature land area as a predictor, whereas the second model will use the population density and the area of suitable land (which were derived in Section 1).\n",
    "\n",
    "### Section 3.1: Model 1 - Predictions using the Land Area\n",
    "\n",
    "We will construct a linear regression model using the land area as a predictor for the number of storks. The outputs of the model are explained below."
   ]
  },
  {
   "cell_type": "code",
   "execution_count": 10,
   "id": "d9a24645",
   "metadata": {},
   "outputs": [
    {
     "name": "stdout",
     "output_type": "stream",
     "text": [
      "The R2 coefficient of determination is 0.336\n",
      "Estimated regression coefficient for Area is 0.02 change in number of breeding pair storks per km^2\n"
     ]
    }
   ],
   "source": [
    "# Constructing a linear regression model with predictor as land area and target as storks\n",
    "y = storks.Storks\n",
    "X = np.column_stack(storks.Area).reshape(-1, 1)\n",
    "\n",
    "reg = LinearRegression()\n",
    "reg.fit(X, y)\n",
    "print('The R2 coefficient of determination is %4.3f' % reg.score(X, y))\n",
    "beta_Area = reg.coef_\n",
    "print('Estimated regression coefficient for Area is %4.2f' % beta_Area, \n",
    "      'change in number of breeding pair storks per km^2')"
   ]
  },
  {
   "cell_type": "markdown",
   "id": "a21ced85",
   "metadata": {},
   "source": [
    "The R2 coefficient shows that 33.6% of variation in the number of storks can be explained by the land area in a country. This suggests that land area is not a very good predictor for the number of storks.\n",
    "\n",
    "The regression coefficient suggests that there is a positive correlation between the land area and number of storks - as one increases, so does the other. This could be expected, as a larger land area could potentially inhabit more storks.\n",
    "\n",
    "The fit of the model is shown in the scatter plot below. We can see that a few of the data points are not close to the regression line."
   ]
  },
  {
   "cell_type": "code",
   "execution_count": 11,
   "id": "bb00a43b",
   "metadata": {},
   "outputs": [
    {
     "data": {
      "text/plain": [
       "<matplotlib.legend.Legend at 0x23010afd160>"
      ]
     },
     "execution_count": 11,
     "metadata": {},
     "output_type": "execute_result"
    },
    {
     "data": {
      "image/png": "[encoded data removed]",
      "text/plain": [
       "<Figure size 1440x720 with 1 Axes>"
      ]
     },
     "metadata": {
      "needs_background": "light"
     },
     "output_type": "display_data"
    }
   ],
   "source": [
    "# Finding the predicted values based on the linear regression model\n",
    "y_hat = reg.predict(X)\n",
    "\n",
    "# Plotting the actual data points and the regression model\n",
    "fig, ax = plt.subplots(1,1, figsize=(20,10))\n",
    "\n",
    "ax.set_title(\"Scatter Plot to Show the Fit of the Regression Model 1: Number of Storks Against Land Area\", fontsize=14)\n",
    "ax.scatter(X, y, color='r')\n",
    "ax.plot(X, y_hat, label = 'Regression Model', color='b')\n",
    "ax.set_xlabel(\"Land Area (km$^2$)\", fontsize=12)\n",
    "ax.set_ylabel(\"Number of Stork Breeding Pairs\", fontsize=12)\n",
    "ax.legend()"
   ]
  },
  {
   "cell_type": "markdown",
   "id": "e89ec72d",
   "metadata": {},
   "source": [
    "We can also calculate another metric known as the root mean squared error (RMSE), which similarly to the R2 coefficient, looks at how well the model fits the data. However, unlike the R2 coefficient, it is not fixed to a range of 0 to 1. It tells us about the average distance of the predicted values (using the regression model) from the actual values in the dataset. Therefore, a lower RMSE value would indicate that the model better fits the data as it lies generally closer to the actual data points."
   ]
  },
  {
   "cell_type": "code",
   "execution_count": 12,
   "id": "a174bf25",
   "metadata": {},
   "outputs": [
    {
     "name": "stdout",
     "output_type": "stream",
     "text": [
      "Root of the mean squared error: 6984.77\n"
     ]
    }
   ],
   "source": [
    "# Calculating the RMSE using the predicted and actual values\n",
    "print('Root of the mean squared error: %.2f'% mean_squared_error(y, y_hat, squared=False))"
   ]
  },
  {
   "cell_type": "markdown",
   "id": "6a7f0e51",
   "metadata": {},
   "source": [
    "The above RMSE value tells us that the average difference between the predicted number of storks and the actual number of storks is approximately 6985 breeding pairs. Although this value does not directly give a specific interpretation of how \"good\" the model is, it will enable us to make comparisons against another model (which will be constructed in the following subsection)."
   ]
  },
  {
   "cell_type": "markdown",
   "id": "17954cb0",
   "metadata": {},
   "source": [
    "### Section 3.2: Model 2 - Predictions using the Population Density and Suitable Land Area\n",
    "\n",
    "We will construct a linear regression model using the population density and area of suitable land as predictors for the number of storks. The outputs of the model are explained below."
   ]
  },
  {
   "cell_type": "code",
   "execution_count": 13,
   "id": "cf6dc507",
   "metadata": {},
   "outputs": [
    {
     "name": "stdout",
     "output_type": "stream",
     "text": [
      "The R2 coefficient of determination is 0.393\n",
      "Estimated regression coefficient for population density is -12.13 change of number of breeding pair storks per human/km2\n",
      "Estimated regression coefficient for area of suitable land is 0.04 change of number of breeding pair storks per percentage suitable area\n"
     ]
    }
   ],
   "source": [
    "# Constructing a linear regression model with predictors as population density, suitable land area and target as storks\n",
    "y = storks_density.Storks\n",
    "X = np.column_stack((storks_density.PopulationDensity, storks_density.SuitableArea))\n",
    "\n",
    "reg = LinearRegression()\n",
    "reg.fit(X, y)\n",
    "print('The R2 coefficient of determination is %4.3f' % reg.score(X, y))\n",
    "beta_PopDens, beta_SLA = reg.coef_\n",
    "print('Estimated regression coefficient for population density is %4.2f' % beta_PopDens, \n",
    "      'change of number of breeding pair storks per human/km2')\n",
    "print('Estimated regression coefficient for area of suitable land is %4.2f' % beta_SLA, \n",
    "      'change of number of breeding pair storks per percentage suitable area')"
   ]
  },
  {
   "cell_type": "markdown",
   "id": "bee0968f",
   "metadata": {},
   "source": [
    "The coefficient shows that approximately 39.3% of variation in the number of storks can be explained by the population density and suitable area of land. This is greater than the value obtained for the previous model, but still does not show a great fit. \n",
    "\n",
    "The regression coefficient suggests that there is a negative correlation between the population density and number of storks (as one decreases, so does the other). On the other hand, the regression coefficient for area of suitable land suggests a positive correlation coefficient, which may be expected as a country would be able to sustain greater numbers of storks.\n",
    "\n",
    "Below is a scatter plot to show the fit of the model. Note that as the model has two predictors instead of one, this would result in a plane which is more difficult to visualise. Therefore, instead we have plotted the actual values against the predicted values, which facilitates interpretation of the fit of the model.  We can see that the points generally stray further away from the line when compared to the plot in the previous subsection."
   ]
  },
  {
   "cell_type": "code",
   "execution_count": 14,
   "id": "7134bef8",
   "metadata": {},
   "outputs": [
    {
     "data": {
      "text/plain": [
       "<matplotlib.legend.Legend at 0x23010b3bd00>"
      ]
     },
     "execution_count": 14,
     "metadata": {},
     "output_type": "execute_result"
    },
    {
     "data": {
      "image/png": "[encoded data removed]",
      "text/plain": [
       "<Figure size 1440x720 with 1 Axes>"
      ]
     },
     "metadata": {
      "needs_background": "light"
     },
     "output_type": "display_data"
    }
   ],
   "source": [
    "# Finding the predicted values based on the linear regression model\n",
    "y_hat = reg.predict(X)\n",
    "\n",
    "# Plotting the actual values against the predicted values\n",
    "fig, ax = plt.subplots(1,1, figsize=(20,10))\n",
    "\n",
    "ax.set_title(\"Scatter Plot to Show the Fit of the Regression Model 2: Actual Values Against Predicted Values of Stork Pairs\", fontsize=14)\n",
    "ax.scatter(y_hat, y, color='r')\n",
    "ax.plot(y_hat, y_hat, label = 'Regression Model', color='b')\n",
    "ax.set_xlabel(\"Predicted Values\", fontsize=12)\n",
    "ax.set_ylabel(\"Actual Values\", fontsize=12)\n",
    "ax.legend()"
   ]
  },
  {
   "cell_type": "markdown",
   "id": "d063b692",
   "metadata": {},
   "source": [
    "Similarly to model 1, we calculate the RMSE for this model below. We can see that this RMSE is lower than that of model 1, which suggests that it is a better model. Furthermore, this is in accordance with the trend in the R2 value, which is higher than that of model 1."
   ]
  },
  {
   "cell_type": "code",
   "execution_count": 15,
   "id": "217cc802",
   "metadata": {},
   "outputs": [
    {
     "name": "stdout",
     "output_type": "stream",
     "text": [
      "Root of the mean squared error: 6677.03\n"
     ]
    }
   ],
   "source": [
    "# Calculating the RMSE using the predicted and actual values\n",
    "print('Root of the mean squared error: %.2f'% mean_squared_error(y, y_hat, squared=False))"
   ]
  },
  {
   "cell_type": "markdown",
   "id": "6f777cd8",
   "metadata": {},
   "source": [
    "### Section 3.3: Bootstrapping Both Models for the RMSE Difference\n",
    "\n",
    "In order to effectively compare the difference between the RMSE's for models 1 and 2, we need to estimate their distributions. In this subsection we will estimate the sample distribution of the differences in RMSE's for both models, using the bootstrap technique. This is similar to the methods carried out for the difference in the R2 coefficient in the previous section; we will carry out 500 resamples. The resulting distributions of the differences in RMSE's (model 1 - model 2) will be shown using a histogram."
   ]
  },
  {
   "cell_type": "code",
   "execution_count": 16,
   "id": "9d041b01",
   "metadata": {},
   "outputs": [
    {
     "data": {
      "text/plain": [
       "Text(0.5, 0, 'RMSE Difference')"
      ]
     },
     "execution_count": 16,
     "metadata": {},
     "output_type": "execute_result"
    },
    {
     "data": {
      "image/png": "[encoded data removed]",
      "text/plain": [
       "<Figure size 1440x576 with 1 Axes>"
      ]
     },
     "metadata": {
      "needs_background": "light"
     },
     "output_type": "display_data"
    }
   ],
   "source": [
    "# Define a function that builds a linear regression coefficient for both models, \n",
    "# calculates the two RMSE values, and then finds the difference between them\n",
    "def differenceRMSE(df):\n",
    "    y = df.Storks\n",
    "    X_model1 = np.column_stack(df.Area).reshape(-1, 1)\n",
    "    X_model2 = np.column_stack((df.PopulationDensity, df.SuitableArea))\n",
    "    reg_model1 = LinearRegression().fit(X_model1, y)\n",
    "    reg_model2 = LinearRegression().fit(X_model2, y)\n",
    "    y_hat_model1 = reg_model1.predict(X_model1)\n",
    "    y_hat_model2 = reg_model2.predict(X_model2)\n",
    "    RMSE_model1 = mean_squared_error(y, y_hat_model1, squared=False)\n",
    "    RMSE_model2 = mean_squared_error(y, y_hat_model2, squared=False)\n",
    "    return [RMSE_model1 - RMSE_model2]\n",
    "\n",
    "# Creating a histogram to show the distribution of the differences in RMSE values between models 1 and 2\n",
    "fig, ax = plt.subplots(1,1, figsize=(20,8))\n",
    "difference_rmse = bootstrapC(storks_density, ['RMSE_Difference'], 500, differenceRMSE) \n",
    "difference_rmse.hist(ax=ax)\n",
    "ax.set_title(\"Histogram to Show the Distribution of Differences of the RMSE's Between Models 1 and 2\", fontsize=14)\n",
    "ax.set_ylabel(\"Frequency\")\n",
    "ax.set_xlabel(\"RMSE Difference\")"
   ]
  },
  {
   "cell_type": "markdown",
   "id": "35ad1c36",
   "metadata": {},
   "source": [
    "The distribution of the RMSE differences shows that the resampled RMSE of model 2 is generally better (lower) than model 2. The confidence intervals for this distribution are as follows:"
   ]
  },
  {
   "cell_type": "code",
   "execution_count": 17,
   "id": "9c75e67d",
   "metadata": {},
   "outputs": [
    {
     "name": "stdout",
     "output_type": "stream",
     "text": [
      "The difference between the RMSE (model 1 - model 2) is 307.74 with 80% CI 158.62 to 552.83\n",
      "The difference between the RMSE (model 1 - model 2) is 307.74 with 90% CI 115.46 to 678.79\n",
      "The difference between the RMSE (model 1 - model 2) is 307.74 with 99% CI 51.64 to 1311.40\n"
     ]
    }
   ],
   "source": [
    "# Determining the sample difference, and comparing this to the various confidence intervals obtained from bootstrapping\n",
    "sampleDiff = differenceRMSE(storks_density)[0]\n",
    "print(\"The difference between the RMSE (model 1 - model 2) is %3.2f with 80%% CI %3.2f to %3.2f\" % \n",
    "      (sampleDiff, difference_rmse.RMSE_Difference.quantile(0.1), difference_rmse.RMSE_Difference.quantile(0.9)))\n",
    "print(\"The difference between the RMSE (model 1 - model 2) is %3.2f with 90%% CI %3.2f to %3.2f\" % \n",
    "      (sampleDiff, difference_rmse.RMSE_Difference.quantile(0.05), difference_rmse.RMSE_Difference.quantile(0.95)))\n",
    "print(\"The difference between the RMSE (model 1 - model 2) is %3.2f with 99%% CI %3.2f to %3.2f\" % \n",
    "      (sampleDiff, difference_rmse.RMSE_Difference.quantile(0.005), difference_rmse.RMSE_Difference.quantile(0.995)))"
   ]
  },
  {
   "cell_type": "markdown",
   "id": "65a960e2",
   "metadata": {},
   "source": [
    "From sections 3.1 and 3.2, we obtained sample RMSE's of 6984.77 and 6677.03 for models 1 and 2 respectively. The difference between them (in terms of model 1 - model 2) is 307.74, which suggests that model 2 is a better predictor of the number of storks than model 1. The sample difference falls inside all of the confidence intervals, all of which only include positive values (greater than 0).\n",
    "\n",
    "Therefore, we can be 99% confident that model 2 better predicts the number of storks than model 1, as the confidence interval shows that 99% of the resampled RMSE differences would lie in the range; the resampled RMSE differences would be lower for model 2, indicating a better fit."
   ]
  },
  {
   "cell_type": "markdown",
   "id": "43638ea8",
   "metadata": {},
   "source": [
    "## Section 4: Conclusion\n",
    "\n",
    "We have summarised the findings of this report below:\n",
    "* Linear regression models were constructed for two target variables: the number of births and storks in a country.\n",
    "* The differences in R2 and RMSE values were explored using the bootstrap method and the resulting confidence intervals.\n",
    "* Two linear regression models were built to predict the number of human births in a country. Whilst both showed positive  correlations against the target variable, the population size was shown to be a better predictor than the number of storks based on the R2 values in accordance with the 80% confidence interval.\n",
    "* From a causal perspective, it may be obvious that the population size would directly affect the birth rate. Whereas, the increase in the number of storks with birth rate may be explained by land area as a confounding variable.\n",
    "* Two linear regression models were built to predict the number of storks in a country. Whilst the land area (and suitable land area) showed a positive correlation, the human population density showed a negative correlation. The second model showed a smaller sample RMSE, and was shown to be a better predictor for the number of storks in accordance with the 99% confidence interval.\n",
    "* From a causal perspective, it may be expected that the land area/suitable land area could sustain greater numbers of storks. The area of suitable land for storks would naturally seem to be a better predictor for the number of storks, than just general land area (which would have less potential to inhabit storks). In contrast, the link between population density and number of storks is not as clear - perhaps a greater population density could mean less 'space' and resource for storks.\n"
   ]
  }
 ],
 "metadata": {
  "kernelspec": {
   "display_name": "Python 3",
   "language": "python",
   "name": "python3"
  },
  "language_info": {
   "codemirror_mode": {
    "name": "ipython",
    "version": 3
   },
   "file_extension": ".py",
   "mimetype": "text/x-python",
   "name": "python",
   "nbconvert_exporter": "python",
   "pygments_lexer": "ipython3",
   "version": "3.8.8"
  }
 },
 "nbformat": 4,
 "nbformat_minor": 5
}
